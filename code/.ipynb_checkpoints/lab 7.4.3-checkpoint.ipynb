{
 "cells": [
  {
   "cell_type": "markdown",
   "metadata": {},
   "source": [
    "## Lab 4.3. "
   ]
  },
  {
   "cell_type": "code",
   "execution_count": 1,
   "metadata": {
    "collapsed": true
   },
   "outputs": [],
   "source": [
    "#categorize emails into news groups"
   ]
  },
  {
   "cell_type": "markdown",
   "metadata": {},
   "source": [
    "#### Setup your imports"
   ]
  },
  {
   "cell_type": "code",
   "execution_count": 3,
   "metadata": {
    "collapsed": false
   },
   "outputs": [],
   "source": [
    "\n",
    "import pandas as pd \n",
    "from sklearn.datasets import fetch_20newsgroups\n",
    "from sklearn.feature_extraction.text import CountVectorizer\n",
    "import numpy as np\n",
    "from sklearn.preprocessing import StandardScaler\n",
    "from sklearn.decomposition import PCA, TruncatedSVD\n",
    "from sklearn.cluster import KMeans\n",
    "from sklearn import metrics\n",
    "import matplotlib.pyplot as plt\n",
    "from sklearn.pipeline import make_pipeline\n",
    "from sklearn.preprocessing import Normalizer"
   ]
  },
  {
   "cell_type": "markdown",
   "metadata": {},
   "source": [
    "#### 1. Pull the training set from the newsgroup data\n",
    "The data has 20 different categories. Try to shrink down to smaller number of groups according to the definition here:\n",
    "http://scikit-learn.org/stable/datasets/twenty_newsgroups.html"
   ]
  },
  {
   "cell_type": "code",
   "execution_count": 4,
   "metadata": {
    "collapsed": false
   },
   "outputs": [],
   "source": [
    "\n",
    "data = fetch_20newsgroups(remove=('headers', 'footers', 'quotes'))"
   ]
  },
  {
   "cell_type": "code",
   "execution_count": 25,
   "metadata": {
    "collapsed": true
   },
   "outputs": [],
   "source": [
    "categories = [\n",
    "    'alt.atheism',\n",
    "    'rec.sport.baseball',\n",
    "    'comp.graphics',\n",
    "    'sci.space',\n",
    "]\n",
    "true_k = len(categories)\n",
    "dataset = fetch_20newsgroups(subset='all', categories=categories,\n",
    "                             shuffle=True, random_state=42)"
   ]
  },
  {
   "cell_type": "code",
   "execution_count": null,
   "metadata": {
    "collapsed": false
   },
   "outputs": [],
   "source": []
  },
  {
   "cell_type": "markdown",
   "metadata": {},
   "source": [
    "#### 2. Create the vectorizer "
   ]
  },
  {
   "cell_type": "code",
   "execution_count": 26,
   "metadata": {
    "collapsed": false
   },
   "outputs": [],
   "source": [
    "from sklearn.feature_extraction.text import TfidfVectorizer\n",
    "\n",
    "tfidf = TfidfVectorizer(max_df=.5, max_features=1000,\n",
    "                                 min_df=2, stop_words='english',\n",
    "                                 use_idf=True, sublinear_tf=False, \n",
    "                                 analyzer = 'word',\n",
    "                                 token_pattern = '[a-zA-Z]{4,50}',\n",
    "                            )\n",
    "\n",
    "X = tfidf.fit_transform(dataset.data)\n",
    "y = dataset.target"
   ]
  },
  {
   "cell_type": "markdown",
   "metadata": {},
   "source": [
    "#### 3. Create the Truncated Singular Value Decomposition. "
   ]
  },
  {
   "cell_type": "code",
   "execution_count": 27,
   "metadata": {
    "collapsed": true
   },
   "outputs": [],
   "source": [
    "svd = TruncatedSVD(300)\n",
    "normalizer = Normalizer(copy=False)\n",
    "lsa = make_pipeline(svd, normalizer)"
   ]
  },
  {
   "cell_type": "markdown",
   "metadata": {},
   "source": [
    "#### 4. Setup your k-means clustering"
   ]
  },
  {
   "cell_type": "code",
   "execution_count": 28,
   "metadata": {
    "collapsed": false
   },
   "outputs": [],
   "source": [
    "km = KMeans(n_clusters=true_k, init='k-means++', max_iter=100, n_init=30,\n",
    "                verbose=0)"
   ]
  },
  {
   "cell_type": "markdown",
   "metadata": {},
   "source": [
    "#### 5. Fit the vectorizer and SVD"
   ]
  },
  {
   "cell_type": "code",
   "execution_count": 29,
   "metadata": {
    "collapsed": false
   },
   "outputs": [
    {
     "name": "stdout",
     "output_type": "stream",
     "text": [
      "Explained variance with LSA\n",
      "0.68868411433\n"
     ]
    }
   ],
   "source": [
    "X_lsa = lsa.fit_transform(X)\n",
    "\n",
    "print \"Explained variance with LSA\"\n",
    "print svd.explained_variance_ratio_.sum()"
   ]
  },
  {
   "cell_type": "markdown",
   "metadata": {},
   "source": [
    "What are top 50 most useful terms based on article itself? Are those terms similar to the top 50 from step 2? "
   ]
  },
  {
   "cell_type": "code",
   "execution_count": 30,
   "metadata": {
    "collapsed": false,
    "scrolled": true
   },
   "outputs": [
    {
     "name": "stdout",
     "output_type": "stream",
     "text": [
      "4         access\n",
      "20         allan\n",
      "60       atheism\n",
      "61       atheist\n",
      "62      atheists\n",
      "74          ball\n",
      "78      baseball\n",
      "95         bible\n",
      "109       braves\n",
      "137    christian\n",
      "238        digex\n",
      "310         file\n",
      "311        files\n",
      "315       flight\n",
      "323       format\n",
      "335         game\n",
      "336        games\n",
      "357     graphics\n",
      "384        henry\n",
      "404        image\n",
      "429        islam\n",
      "430      islamic\n",
      "446        keith\n",
      "467       launch\n",
      "471       league\n",
      "487      livesey\n",
      "494      looking\n",
      "547         moon\n",
      "548        moral\n",
      "549     morality\n",
      "555         nasa\n",
      "598        orbit\n",
      "617       people\n",
      "637     pitching\n",
      "647         play\n",
      "649       player\n",
      "650      players\n",
      "687      program\n",
      "723     religion\n",
      "725    religious\n",
      "755         runs\n",
      "768    schneider\n",
      "777       season\n",
      "793      shuttle\n",
      "810      solntze\n",
      "820        space\n",
      "826      spencer\n",
      "872         team\n",
      "885       thanks\n",
      "995         year\n",
      "dtype: object\n"
     ]
    }
   ],
   "source": [
    "from sklearn.feature_selection import SelectKBest, f_classif\n",
    "columns = tfidf.get_feature_names()\n",
    "new_X = pd.Series(columns)\n",
    "\n",
    "selector = SelectKBest(f_classif, k=50)\n",
    "selected_data = selector.fit_transform(X, y)\n",
    "\n",
    "kbest = new_X[selector.get_support()]\n",
    "print kbest"
   ]
  },
  {
   "cell_type": "markdown",
   "metadata": {},
   "source": [
    "Plot the cummulative variace from the terms. x-axis: number of components; y-axis: cummulative variance. \n",
    "Based on the plot, decide how many principle components you need. "
   ]
  },
  {
   "cell_type": "code",
   "execution_count": 31,
   "metadata": {
    "collapsed": false
   },
   "outputs": [
    {
     "data": {
      "text/plain": [
       "[<matplotlib.lines.Line2D at 0x110433910>]"
      ]
     },
     "execution_count": 31,
     "metadata": {},
     "output_type": "execute_result"
    },
    {
     "data": {
      "image/png": "[encoded data removed]",
      "text/plain": [
       "<matplotlib.figure.Figure at 0x11639abd0>"
      ]
     },
     "metadata": {},
     "output_type": "display_data"
    }
   ],
   "source": [
    "plt.plot(svd.explained_variance_ratio_)"
   ]
  },
  {
   "cell_type": "markdown",
   "metadata": {},
   "source": [
    "#### 7. Fit the kmeans (Question: in this case, do you recommend running K-means without dimension reduction?)"
   ]
  },
  {
   "cell_type": "code",
   "execution_count": 32,
   "metadata": {
    "collapsed": true
   },
   "outputs": [],
   "source": [
    "km.fit(X_lsa)\n",
    "labels = y"
   ]
  },
  {
   "cell_type": "markdown",
   "metadata": {
    "collapsed": true
   },
   "source": [
    "Print out your centroids. Look at the value for each centroid. Does each centroid represent a news group as expected? "
   ]
  },
  {
   "cell_type": "code",
   "execution_count": 33,
   "metadata": {
    "collapsed": false
   },
   "outputs": [
    {
     "name": "stdout",
     "output_type": "stream",
     "text": [
      "Top terms per cluster:\n",
      "['alt.atheism', 'rec.sport.baseball', 'comp.graphics', 'sci.space']\n",
      "Cluster 0:\n",
      "[u'space', u'nasa', u'access', u'henry', u'digex', u'shuttle', u'toronto', u'moon', u'alaska', u'orbit']\n",
      "Cluster 1:\n",
      "[u'keith', u'people', u'atheists', u'article', u'livesey', u'religion', u'think', u'atheism', u'caltech', u'believe']\n",
      "Cluster 2:\n",
      "[u'graphics', u'university', u'thanks', u'posting', u'host', u'nntp', u'image', u'computer', u'mail', u'file']\n",
      "Cluster 3:\n",
      "[u'game', u'baseball', u'year', u'team', u'games', u'players', u'article', u'university', u'think', u'runs']\n"
     ]
    }
   ],
   "source": [
    "print \"Top terms per cluster:\"\n",
    "\n",
    "original_space_centroids = svd.inverse_transform(km.cluster_centers_)\n",
    "order_centroids = original_space_centroids.argsort()[:, ::-1]\n",
    "\n",
    "terms = tfidf.get_feature_names()\n",
    "print categories\n",
    "\n",
    "for i in range(true_k):\n",
    "    print \"Cluster %d:\" % i \n",
    "    temp = []\n",
    "    for ind in order_centroids[i, :10]:\n",
    "        temp.append(terms[ind])\n",
    "    print temp"
   ]
  },
  {
   "cell_type": "markdown",
   "metadata": {},
   "source": [
    "#### 8. Check the performance of our kmeans"
   ]
  },
  {
   "cell_type": "code",
   "execution_count": 34,
   "metadata": {
    "collapsed": false
   },
   "outputs": [
    {
     "name": "stdout",
     "output_type": "stream",
     "text": [
      "Homogeneity: 0.700\n",
      "Completeness: 0.711\n",
      "V-measure: 0.705\n",
      "Adjusted Rand-Index: 0.699\n",
      "Silhouette Coefficient: 0.025\n"
     ]
    }
   ],
   "source": [
    "print \"Homogeneity: %0.3f\" % metrics.homogeneity_score(labels, km.labels_)\n",
    "print \"Completeness: %0.3f\" % metrics.completeness_score(labels, km.labels_) \n",
    "print \"V-measure: %0.3f\" % metrics.v_measure_score(labels, km.labels_) \n",
    "print \"Adjusted Rand-Index: %.3f\" % metrics.adjusted_rand_score(labels, km.labels_) \n",
    "print \"Silhouette Coefficient: %0.3f\" % metrics.silhouette_score(X_lsa, km.labels_, sample_size=1000) "
   ]
  },
  {
   "cell_type": "markdown",
   "metadata": {},
   "source": [
    "#### Classification Report"
   ]
  },
  {
   "cell_type": "code",
   "execution_count": 42,
   "metadata": {
    "collapsed": false
   },
   "outputs": [
    {
     "name": "stdout",
     "output_type": "stream",
     "text": [
      "             precision    recall  f1-score   support\n",
      "\n",
      "          0       0.95      0.92      0.93       799\n",
      "          1       0.72      0.98      0.83       973\n",
      "          2       0.97      0.88      0.92       994\n",
      "          3       0.98      0.76      0.85       987\n",
      "\n",
      "avg / total       0.90      0.88      0.88      3753\n",
      "\n"
     ]
    }
   ],
   "source": [
    "from sklearn.metrics import confusion_matrix, classification_report\n",
    "y_pred = np.choose(km.labels_, [3,0,1,2])\n",
    "\n",
    "print classification_report(y, y_pred)"
   ]
  },
  {
   "cell_type": "markdown",
   "metadata": {},
   "source": [
    "#### Confusion Matrix. Hint: create a map to translate the label between k-means clustering and the original target (newsgroups_train.target). "
   ]
  },
  {
   "cell_type": "code",
   "execution_count": 43,
   "metadata": {
    "collapsed": false
   },
   "outputs": [
    {
     "data": {
      "text/plain": [
       "array([[733,  55,   9,   2],\n",
       "       [  6, 949,   5,  13],\n",
       "       [  8, 107, 877,   2],\n",
       "       [ 26, 201,  12, 748]])"
      ]
     },
     "execution_count": 43,
     "metadata": {},
     "output_type": "execute_result"
    }
   ],
   "source": [
    "confusion_matrix(y, y_pred)"
   ]
  },
  {
   "cell_type": "code",
   "execution_count": null,
   "metadata": {
    "collapsed": true
   },
   "outputs": [],
   "source": []
  }
 ],
 "metadata": {
  "anaconda-cloud": {},
  "kernelspec": {
   "display_name": "Python [default]",
   "language": "python",
   "name": "python2"
  },
  "language_info": {
   "codemirror_mode": {
    "name": "ipython",
    "version": 2
   },
   "file_extension": ".py",
   "mimetype": "text/x-python",
   "name": "python",
   "nbconvert_exporter": "python",
   "pygments_lexer": "ipython2",
   "version": "2.7.12"
  }
 },
 "nbformat": 4,
 "nbformat_minor": 0
}
